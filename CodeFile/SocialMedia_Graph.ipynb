{
 "cells": [
  {
   "cell_type": "markdown",
   "id": "c858a0f5-a089-460d-bab6-6ba11888560c",
   "metadata": {},
   "source": [
    "# SOCIAL NETWORK ANALYSIS"
   ]
  },
  {
   "cell_type": "markdown",
   "id": "6c879d92-8a39-40b4-9774-dcf167be9838",
   "metadata": {},
   "source": [
    "* **Proje  Amacı** :Bu proje, sosyal ağ analizi üzerine odaklanarak, bir Graph Neural Network (GNN) modeli kullanarak sosyal ağdaki düğümler üzerinden bir öneri sistemi geliştirmeyi amaçlamakta . Yani ağa katılan herhangi bir kişi için en öncelikli 10 kişiyi tahmin edip öneren bir sistem olması amaçlanmaktadır."
   ]
  },
  {
   "cell_type": "markdown",
   "id": "c7b37d6e-6169-4ee2-80b3-925419fdb7b4",
   "metadata": {},
   "source": [
    "## VERİSETİ HAKKINDA"
   ]
  },
  {
   "cell_type": "markdown",
   "id": "b38fa324-ed60-483c-b9db-42df2652eccd",
   "metadata": {},
   "source": [
    "* Bu proje içerisinde kullandığım verisetini **Stanford**'a ait şu siteden aldım \"https://snap.stanford.edu/data/\"\n",
    "* Veri setinde **Facebook**'a ait veriler bulunmaktadır\n",
    "* Veriseti içerisinde 5 tip dosya bulunmaktadır.Bunla\n",
    "    * **circles** DosyalarBu dosya, ego kullanıcısının çemberlerini içerir. Her bir çember, kullanıcıların belirli bir grup içinde nasıl gruplandırıldığını gösterir. Bu çemberler, sosyal ağdaki toplulukları veya grupları analiz etmek için kullanılabilir.r.\n",
    "  * **edges** Dosyaları:Bu dosya, kullanıcılar arasındaki bağlantıları (kenarları) içerir. Her satır, iki kullanıcı arasındaki bir bağlantıyı temsil eder. Örneğin, \"236 186\" satırı, 236 ve 186 numaralı iki kullanıcı arasında bir bağlantı olduğunu belirtir.\n",
    "  * **egofeat** DosyalBu dosya, ego kullanıcısının özelliklerini içerir. Bu özellikler, ego kullanıcısının profiline özgüdür ve diğer kullanıcılarla karşılaştırmak için kullanılabilir.lir.\n",
    "  * **feat** DosyalBu dosya, ağdaki her bir düğümün özelliklerini içerir. Özellikler, düğümlerin profilleriyle ilişkilendirilebilir ve kullanıcıların belirli özelliklerini temsil edebilir.erir.\n",
    "  * **featnames** DosyBu dosya, özellik isimlerini içerir. Özelliklerin neyi temsil ettiğini anlamanıza yardımcı olabilir.çnodeId.edges: Bu dosya, ego ağının kenarlarını içerir. Her bir satırda, bir kenarın iki ucu belirtilir. Kenarlar, genellikle kullanıcıların arkadaşlık ilişkilerini temsil eder.\n",
    "lir.ıklar."
   ]
  },
  {
   "cell_type": "markdown",
   "id": "6c8bb5d1-47dd-436a-9176-e5dc7dcb7642",
   "metadata": {},
   "source": [
    "## KOD"
   ]
  },
  {
   "cell_type": "markdown",
   "id": "481bcd32-e718-4ea1-99c8-5db284b2136b",
   "metadata": {},
   "source": [
    "* GEREKLİ KÜTÜPHANELERİN IMPORT EDİLMESİ"
   ]
  },
  {
   "cell_type": "code",
   "execution_count": 1,
   "id": "79b780f8-3aaa-4a82-b70e-9b2df569c10d",
   "metadata": {},
   "outputs": [],
   "source": [
    "import numpy as np\n",
    "import matplotlib.pyplot as plt\n",
    "import networkx as nx\n",
    "import pandas as pd \n",
    "import torch\n",
    "import torch.nn as nn\n",
    "import torch.optim as optim\n",
    "import torch.nn.functional as F\n",
    "from torch_geometric.nn import GCNConv\n",
    "from torch_geometric.data import Data, DataLoader\n",
    "from itertools import combinations\n",
    "from sklearn.model_selection import KFold\n",
    "from sklearn.model_selection import train_test_split\n",
    "from sklearn.metrics import confusion_matrix, classification_report\n"
   ]
  },
  {
   "cell_type": "markdown",
   "id": "5e834fd7",
   "metadata": {},
   "source": [
    "* VERİSETİNİN İÇE AKTARILMASI"
   ]
  },
  {
   "cell_type": "code",
   "execution_count": 2,
   "id": "98171d38-1a07-4b31-8e24-b647d8aab62a",
   "metadata": {},
   "outputs": [
    {
     "data": {
      "text/html": [
       "<div>\n",
       "<style scoped>\n",
       "    .dataframe tbody tr th:only-of-type {\n",
       "        vertical-align: middle;\n",
       "    }\n",
       "\n",
       "    .dataframe tbody tr th {\n",
       "        vertical-align: top;\n",
       "    }\n",
       "\n",
       "    .dataframe thead th {\n",
       "        text-align: right;\n",
       "    }\n",
       "</style>\n",
       "<table border=\"1\" class=\"dataframe\">\n",
       "  <thead>\n",
       "    <tr style=\"text-align: right;\">\n",
       "      <th></th>\n",
       "      <th>source</th>\n",
       "      <th>target</th>\n",
       "    </tr>\n",
       "  </thead>\n",
       "  <tbody>\n",
       "    <tr>\n",
       "      <th>0</th>\n",
       "      <td>122</td>\n",
       "      <td>285</td>\n",
       "    </tr>\n",
       "    <tr>\n",
       "      <th>1</th>\n",
       "      <td>24</td>\n",
       "      <td>346</td>\n",
       "    </tr>\n",
       "    <tr>\n",
       "      <th>2</th>\n",
       "      <td>271</td>\n",
       "      <td>304</td>\n",
       "    </tr>\n",
       "    <tr>\n",
       "      <th>3</th>\n",
       "      <td>176</td>\n",
       "      <td>9</td>\n",
       "    </tr>\n",
       "    <tr>\n",
       "      <th>4</th>\n",
       "      <td>130</td>\n",
       "      <td>329</td>\n",
       "    </tr>\n",
       "  </tbody>\n",
       "</table>\n",
       "</div>"
      ],
      "text/plain": [
       "   source  target\n",
       "0     122     285\n",
       "1      24     346\n",
       "2     271     304\n",
       "3     176       9\n",
       "4     130     329"
      ]
     },
     "execution_count": 2,
     "metadata": {},
     "output_type": "execute_result"
    }
   ],
   "source": [
    "df = pd.read_excel('veri.xlsx')\n",
    "\n",
    "df.columns = ['source', 'target']\n",
    "\n",
    "df.head(5)"
   ]
  },
  {
   "cell_type": "markdown",
   "id": "bf03fc3f",
   "metadata": {},
   "source": [
    "* VERİSETİ İLE GRAF YAPISININ OLUŞTURULMASI"
   ]
  },
  {
   "cell_type": "code",
   "execution_count": 3,
   "id": "935ac079",
   "metadata": {},
   "outputs": [],
   "source": [
    "G = nx.Graph()\n",
    "\n",
    "edges = df.values.tolist()\n",
    "\n",
    "G.add_edges_from(edges)\n",
    "\n",
    "mapping = {node: idx for idx, node in enumerate(G.nodes())}\n",
    "\n",
    "G = nx.relabel_nodes(G, mapping)\n",
    "\n",
    "edge_index = torch.tensor(list(G.edges)).t().contiguous()\n"
   ]
  },
  {
   "cell_type": "markdown",
   "id": "834e1132",
   "metadata": {},
   "source": [
    "* NEO4J BAĞLANTI BİLGİLERİ "
   ]
  },
  {
   "cell_type": "code",
   "execution_count": 4,
   "id": "4d605269",
   "metadata": {},
   "outputs": [],
   "source": [
    "from neo4j import GraphDatabase\n",
    "import pandas as pd\n",
    "\n",
    "# Neo4J DB bağlantı bilgileri - şifremi yazmak istemediğim için none yazdım \n",
    "uri = \"bolt://localhost:7687\"\n",
    "username = \"none\"\n",
    "password = \"none\"\n",
    "\n",
    "driver = GraphDatabase.driver(uri, auth=(username, password))\n"
   ]
  },
  {
   "cell_type": "markdown",
   "id": "99af0d46",
   "metadata": {},
   "source": [
    "* NEO4J'YE GRAFIN AKTARILMASI"
   ]
  },
  {
   "cell_type": "code",
   "execution_count": 5,
   "id": "58366575",
   "metadata": {},
   "outputs": [],
   "source": [
    "def create_session():\n",
    "    return driver.session()\n",
    "\n",
    "def create_graph_from_dataframe(df):\n",
    "    with create_session() as session:\n",
    "        for index, row in df.iterrows():\n",
    "            source = row['source']\n",
    "            target = row['target']\n",
    "            session.run(\"MERGE (a:Person {id: $source}) \"\n",
    "                        \"MERGE (b:Person {id: $target}) \"\n",
    "                        \"MERGE (a)-[:FRIEND]->(b)\",\n",
    "                        source=source, target=target)\n",
    "            "
   ]
  },
  {
   "cell_type": "markdown",
   "id": "0a11104f",
   "metadata": {},
   "source": [
    "* VERİSETİNİN GNN MODELİ İÇİN HAZIRLANMASI"
   ]
  },
  {
   "cell_type": "code",
   "execution_count": 6,
   "id": "847dfced",
   "metadata": {},
   "outputs": [],
   "source": [
    "num_nodes = G.number_of_nodes()\n",
    "num_features = 3  # Özellik sayısı\n",
    "num_classes = 2   # Sınıf sayısı\n",
    "\n",
    "x = torch.rand((num_nodes, num_features))\n",
    "y = torch.randint(0, num_classes, (num_nodes,))\n",
    "\n",
    "data = Data(x=x, edge_index=edge_index, y=y)"
   ]
  },
  {
   "cell_type": "markdown",
   "id": "2e19f2d5",
   "metadata": {},
   "source": [
    "* EĞİTİM VE TEST OLARAK VERİ SETİNİ AYIRMA "
   ]
  },
  {
   "cell_type": "code",
   "execution_count": 7,
   "id": "bae9f816",
   "metadata": {},
   "outputs": [],
   "source": [
    "train_mask, test_mask = train_test_split(range(num_nodes), test_size=0.2, random_state=42)\n",
    "\n",
    "train_mask = torch.tensor(train_mask, dtype=torch.long)\n",
    "\n",
    "test_mask = torch.tensor(test_mask, dtype=torch.long)\n"
   ]
  },
  {
   "cell_type": "markdown",
   "id": "4d5de661",
   "metadata": {},
   "source": [
    "* GNN MODELİNİN OLUŞTURULMASI"
   ]
  },
  {
   "cell_type": "code",
   "execution_count": 8,
   "id": "f7ac2c65",
   "metadata": {},
   "outputs": [],
   "source": [
    "class GCN(nn.Module):\n",
    "    def __init__(self, num_features, hidden_dim1, hidden_dim2, num_classes, dropout=0.1):\n",
    "        super(GCN, self).__init__()\n",
    "        self.conv1 = GCNConv(num_features, hidden_dim1)\n",
    "        self.conv2 = GCNConv(hidden_dim1, hidden_dim2)\n",
    "        self.conv3 = GCNConv(hidden_dim2, num_classes)\n",
    "        self.dropout = dropout\n",
    "\n",
    "    def forward(self, x, edge_index):\n",
    "        x = self.conv1(x, edge_index)\n",
    "        x = F.relu(x)\n",
    "        x = F.dropout(x, p=self.dropout, training=self.training)\n",
    "        x = self.conv2(x, edge_index)\n",
    "        x = F.relu(x)\n",
    "        x = F.dropout(x, p=self.dropout, training=self.training)\n",
    "        x = self.conv3(x, edge_index)\n",
    "        return F.log_softmax(x, dim=1)"
   ]
  },
  {
   "cell_type": "markdown",
   "id": "67c98332",
   "metadata": {},
   "source": [
    "* MODELE AİT PARAMETRELERİN AYARLANMASI "
   ]
  },
  {
   "cell_type": "code",
   "execution_count": 58,
   "id": "c86ec222",
   "metadata": {},
   "outputs": [],
   "source": [
    "model = GCN(num_features=num_features, hidden_dim1=64, hidden_dim2=64, num_classes=num_classes)\n",
    "optimizer = torch.optim.Adam(model.parameters(), lr=0.06)\n",
    "criterion = nn.CrossEntropyLoss()\n",
    "\n",
    "def train():\n",
    "    model.train()\n",
    "    optimizer.zero_grad()\n",
    "    out = model(data.x, data.edge_index)\n",
    "    loss = criterion(out[train_mask], data.y[train_mask])\n",
    "    loss.backward()\n",
    "    optimizer.step()\n",
    "    return loss.item()\n",
    "\n",
    "def test():\n",
    "    model.eval()\n",
    "    out = model(data.x, data.edge_index)\n",
    "    pred = out.argmax(dim=1)\n",
    "    correct = (pred[test_mask] == data.y[test_mask]).sum()\n",
    "    acc = int(correct) / len(test_mask)\n",
    "    return acc, pred[test_mask]"
   ]
  },
  {
   "cell_type": "markdown",
   "id": "53b86189",
   "metadata": {},
   "source": [
    "* MODELİN EĞİTİLMESİ VE TEST EDİLMESİ"
   ]
  },
  {
   "cell_type": "code",
   "execution_count": 60,
   "id": "aa54e271",
   "metadata": {},
   "outputs": [
    {
     "name": "stdout",
     "output_type": "stream",
     "text": [
      "Epoch 10, Loss: 0.6905, Test Accuracy: 0.5522\n",
      "Epoch 20, Loss: 0.6916, Test Accuracy: 0.5821\n",
      "Epoch 30, Loss: 0.6889, Test Accuracy: 0.5821\n",
      "Epoch 40, Loss: 0.6912, Test Accuracy: 0.4925\n",
      "Epoch 50, Loss: 0.6912, Test Accuracy: 0.4925\n",
      "Epoch 60, Loss: 0.6920, Test Accuracy: 0.5075\n",
      "Epoch 70, Loss: 0.6921, Test Accuracy: 0.4776\n",
      "Epoch 80, Loss: 0.6913, Test Accuracy: 0.4925\n",
      "Epoch 90, Loss: 0.6908, Test Accuracy: 0.5075\n",
      "Epoch 100, Loss: 0.6922, Test Accuracy: 0.4925\n",
      "Epoch 110, Loss: 0.6919, Test Accuracy: 0.5075\n",
      "Epoch 120, Loss: 0.6920, Test Accuracy: 0.5075\n",
      "Epoch 130, Loss: 0.6920, Test Accuracy: 0.5075\n",
      "Epoch 140, Loss: 0.6918, Test Accuracy: 0.4925\n",
      "Epoch 150, Loss: 0.6904, Test Accuracy: 0.5224\n",
      "Epoch 160, Loss: 0.6895, Test Accuracy: 0.5522\n",
      "Epoch 170, Loss: 0.6909, Test Accuracy: 0.5522\n",
      "Epoch 180, Loss: 0.6928, Test Accuracy: 0.4925\n",
      "Epoch 190, Loss: 0.6902, Test Accuracy: 0.5075\n",
      "Epoch 200, Loss: 0.6897, Test Accuracy: 0.4925\n",
      "Epoch 210, Loss: 0.6932, Test Accuracy: 0.4925\n",
      "Epoch 220, Loss: 0.6910, Test Accuracy: 0.5075\n",
      "Epoch 230, Loss: 0.6920, Test Accuracy: 0.5821\n",
      "Epoch 240, Loss: 0.6912, Test Accuracy: 0.5075\n",
      "Epoch 250, Loss: 0.6922, Test Accuracy: 0.5821\n",
      "Epoch 260, Loss: 0.6925, Test Accuracy: 0.5224\n",
      "Epoch 270, Loss: 0.6902, Test Accuracy: 0.4925\n",
      "Epoch 280, Loss: 0.6925, Test Accuracy: 0.4925\n",
      "Epoch 290, Loss: 0.6908, Test Accuracy: 0.5075\n",
      "Epoch 300, Loss: 0.6910, Test Accuracy: 0.5075\n",
      "Epoch 310, Loss: 0.6904, Test Accuracy: 0.4776\n",
      "Epoch 320, Loss: 0.6888, Test Accuracy: 0.4925\n",
      "Epoch 330, Loss: 0.6912, Test Accuracy: 0.5075\n",
      "Epoch 340, Loss: 0.6903, Test Accuracy: 0.5075\n",
      "Epoch 350, Loss: 0.6906, Test Accuracy: 0.5075\n",
      "Epoch 360, Loss: 0.6884, Test Accuracy: 0.4776\n",
      "Epoch 370, Loss: 0.6900, Test Accuracy: 0.5821\n",
      "Epoch 380, Loss: 0.6916, Test Accuracy: 0.4925\n",
      "Epoch 390, Loss: 0.6913, Test Accuracy: 0.5075\n",
      "Epoch 400, Loss: 0.6913, Test Accuracy: 0.5075\n",
      "Epoch 410, Loss: 0.6910, Test Accuracy: 0.5224\n",
      "Epoch 420, Loss: 0.6896, Test Accuracy: 0.4925\n",
      "Epoch 430, Loss: 0.6904, Test Accuracy: 0.4925\n",
      "Epoch 440, Loss: 0.6904, Test Accuracy: 0.4925\n",
      "Epoch 450, Loss: 0.6908, Test Accuracy: 0.4925\n",
      "Epoch 460, Loss: 0.6923, Test Accuracy: 0.5672\n",
      "Epoch 470, Loss: 0.6902, Test Accuracy: 0.5075\n",
      "Epoch 480, Loss: 0.6895, Test Accuracy: 0.4925\n",
      "Epoch 490, Loss: 0.6903, Test Accuracy: 0.4925\n",
      "Epoch 500, Loss: 0.6900, Test Accuracy: 0.4925\n",
      "Epoch 510, Loss: 0.6900, Test Accuracy: 0.4776\n",
      "Epoch 520, Loss: 0.6913, Test Accuracy: 0.5075\n",
      "Epoch 530, Loss: 0.6906, Test Accuracy: 0.5821\n",
      "Epoch 540, Loss: 0.6923, Test Accuracy: 0.4776\n",
      "Epoch 550, Loss: 0.6900, Test Accuracy: 0.5373\n",
      "Epoch 560, Loss: 0.6914, Test Accuracy: 0.5224\n",
      "Epoch 570, Loss: 0.6903, Test Accuracy: 0.4925\n",
      "Epoch 580, Loss: 0.6904, Test Accuracy: 0.5075\n",
      "Epoch 590, Loss: 0.6932, Test Accuracy: 0.5075\n",
      "Epoch 600, Loss: 0.6886, Test Accuracy: 0.5224\n",
      "Epoch 610, Loss: 0.6889, Test Accuracy: 0.5075\n",
      "Epoch 620, Loss: 0.6899, Test Accuracy: 0.5075\n",
      "Epoch 630, Loss: 0.6916, Test Accuracy: 0.5075\n",
      "Epoch 640, Loss: 0.6925, Test Accuracy: 0.5224\n",
      "Epoch 650, Loss: 0.6904, Test Accuracy: 0.5821\n",
      "Epoch 660, Loss: 0.6893, Test Accuracy: 0.4925\n",
      "Epoch 670, Loss: 0.6894, Test Accuracy: 0.4925\n",
      "Epoch 680, Loss: 0.6908, Test Accuracy: 0.5075\n",
      "Epoch 690, Loss: 0.6920, Test Accuracy: 0.4925\n",
      "Epoch 700, Loss: 0.6904, Test Accuracy: 0.4776\n",
      "Epoch 710, Loss: 0.6915, Test Accuracy: 0.5373\n",
      "Epoch 720, Loss: 0.6913, Test Accuracy: 0.4776\n",
      "Epoch 730, Loss: 0.6935, Test Accuracy: 0.4925\n",
      "Epoch 740, Loss: 0.6904, Test Accuracy: 0.4925\n",
      "Epoch 750, Loss: 0.6903, Test Accuracy: 0.4925\n",
      "Epoch 760, Loss: 0.6916, Test Accuracy: 0.5075\n",
      "Epoch 770, Loss: 0.6912, Test Accuracy: 0.5075\n",
      "Epoch 780, Loss: 0.6917, Test Accuracy: 0.5224\n",
      "Epoch 790, Loss: 0.6912, Test Accuracy: 0.5075\n",
      "Epoch 800, Loss: 0.6912, Test Accuracy: 0.5075\n",
      "Epoch 810, Loss: 0.6914, Test Accuracy: 0.5224\n",
      "Epoch 820, Loss: 0.6898, Test Accuracy: 0.4925\n",
      "Epoch 830, Loss: 0.6903, Test Accuracy: 0.4925\n",
      "Epoch 840, Loss: 0.6926, Test Accuracy: 0.4925\n",
      "Epoch 850, Loss: 0.6906, Test Accuracy: 0.4776\n",
      "Epoch 860, Loss: 0.6913, Test Accuracy: 0.5821\n",
      "Epoch 870, Loss: 0.6877, Test Accuracy: 0.5075\n",
      "Epoch 880, Loss: 0.6909, Test Accuracy: 0.5075\n",
      "Epoch 890, Loss: 0.6899, Test Accuracy: 0.4776\n",
      "Epoch 900, Loss: 0.6929, Test Accuracy: 0.5224\n",
      "Epoch 910, Loss: 0.6918, Test Accuracy: 0.5075\n",
      "Epoch 920, Loss: 0.6908, Test Accuracy: 0.5075\n",
      "Epoch 930, Loss: 0.6922, Test Accuracy: 0.5075\n",
      "Epoch 940, Loss: 0.6922, Test Accuracy: 0.5224\n",
      "Epoch 950, Loss: 0.6918, Test Accuracy: 0.5075\n",
      "Epoch 960, Loss: 0.6914, Test Accuracy: 0.5075\n",
      "Epoch 970, Loss: 0.6895, Test Accuracy: 0.5821\n",
      "Epoch 980, Loss: 0.6915, Test Accuracy: 0.5224\n",
      "Epoch 990, Loss: 0.6901, Test Accuracy: 0.4925\n",
      "Epoch 1000, Loss: 0.6905, Test Accuracy: 0.5821\n",
      "Confusion Matrix:\n",
      " [[13 12]\n",
      " [16 26]]\n",
      "Classification Report:\n",
      "               precision    recall  f1-score   support\n",
      "\n",
      "           0       0.45      0.52      0.48        25\n",
      "           1       0.68      0.62      0.65        42\n",
      "\n",
      "    accuracy                           0.58        67\n",
      "   macro avg       0.57      0.57      0.57        67\n",
      "weighted avg       0.60      0.58      0.59        67\n",
      "\n"
     ]
    }
   ],
   "source": [
    "for epoch in range(1000):\n",
    "    loss = train()\n",
    "    acc, _ = test()\n",
    "    if (epoch+1) % 10 == 0:\n",
    "        print(f'Epoch {epoch+1}, Loss: {loss:.4f}, Test Accuracy: {acc:.4f}')\n",
    "\n",
    "_, pred = test()\n",
    "true_labels = data.y[test_mask].cpu().numpy()\n",
    "pred_labels = pred.cpu().numpy()\n",
    "\n",
    "conf_matrix = confusion_matrix(true_labels, pred_labels)\n",
    "print(\"Confusion Matrix:\\n\", conf_matrix)\n",
    "\n",
    "class_report = classification_report(true_labels, pred_labels)\n",
    "print(\"Classification Report:\\n\", class_report)\n",
    "\n",
    "    "
   ]
  },
  {
   "cell_type": "markdown",
   "id": "081a7fff",
   "metadata": {},
   "source": [
    "*  TAHMİN SÜRECİNDE KULLANMAK İÇİN MODELİN KAYDEDİLMESİ"
   ]
  },
  {
   "cell_type": "code",
   "execution_count": 61,
   "id": "421d7543",
   "metadata": {},
   "outputs": [],
   "source": [
    "torch.save(model.state_dict(), 'model.pth')\n"
   ]
  },
  {
   "cell_type": "markdown",
   "id": "65468646",
   "metadata": {},
   "source": [
    "* KAYDEDİLEN MODELİN YÜKLENMESİ"
   ]
  },
  {
   "cell_type": "code",
   "execution_count": 62,
   "id": "0a325e4a",
   "metadata": {},
   "outputs": [
    {
     "data": {
      "text/plain": [
       "GCN(\n",
       "  (conv1): GCNConv(3, 64)\n",
       "  (conv2): GCNConv(64, 64)\n",
       "  (conv3): GCNConv(64, 2)\n",
       ")"
      ]
     },
     "execution_count": 62,
     "metadata": {},
     "output_type": "execute_result"
    }
   ],
   "source": [
    "model.load_state_dict(torch.load('model.pth'))\n",
    "model.eval()\n"
   ]
  },
  {
   "cell_type": "markdown",
   "id": "94570c87",
   "metadata": {},
   "source": [
    "* YENİ KİŞİ EKLENDİĞİNDE GRAFI GÜNCELLEYEN FONKSİYON "
   ]
  },
  {
   "cell_type": "code",
   "execution_count": 63,
   "id": "efa1b556",
   "metadata": {},
   "outputs": [],
   "source": [
    "def add_new_person(G, new_person, friends):\n",
    "    G.add_node(new_person)\n",
    "    for friend in friends:\n",
    "        G.add_edge(new_person, friend)\n",
    "    return G"
   ]
  },
  {
   "cell_type": "markdown",
   "id": "2a5156d6",
   "metadata": {},
   "source": [
    "* YENİ NODE İLE İLİŞKİLİ EDGE EKLEME "
   ]
  },
  {
   "cell_type": "code",
   "execution_count": 64,
   "id": "7c31ca50",
   "metadata": {},
   "outputs": [],
   "source": [
    "# İki kişi arasında arkadaşlık ekleme fonksiyonu\n",
    "def add_friendship(source, target):\n",
    "    with create_session() as session:\n",
    "        session.run(\"\"\"\n",
    "            MATCH (a:Person {id: $source})\n",
    "            MATCH (b:Person {id: $target})\n",
    "            CREATE (a)-[:FRIEND]->(b)\n",
    "            \"\"\", source=source, target=target)"
   ]
  },
  {
   "cell_type": "markdown",
   "id": "a6be2bd4",
   "metadata": {},
   "source": [
    "* EKLENEN YENİ KİŞİNİN DİNAMİK OLARAK NEO4J'YE AKTARILMASI "
   ]
  },
  {
   "cell_type": "code",
   "execution_count": 65,
   "id": "91e81e62",
   "metadata": {},
   "outputs": [],
   "source": [
    "# Yeni bir kişi ekleme fonksiyonu\n",
    "def add_person(person_id):\n",
    "    with create_session() as session:\n",
    "        session.run(\"CREATE (:Person {id: $id})\", id=person_id)\n",
    "        "
   ]
  },
  {
   "cell_type": "markdown",
   "id": "a93dd5d0",
   "metadata": {},
   "source": [
    "* EKLENEN YENİ KİŞİ İÇİN EN YÜKSEK TAHMİN DEĞERLERİNE SAHİP İLK 10 KİŞİNİN BULUNMASI"
   ]
  },
  {
   "cell_type": "code",
   "execution_count": 66,
   "id": "99e046fd",
   "metadata": {},
   "outputs": [],
   "source": [
    "def find_similar_people(model, G, new_person, friends, top_k=10):\n",
    "    G = add_new_person(G, new_person, friends)\n",
    "    \n",
    "    mapping = {node: idx for idx, node in enumerate(G.nodes())}\n",
    "    G = nx.relabel_nodes(G, mapping)\n",
    "    \n",
    "    edge_index = torch.tensor(list(G.edges())).t().contiguous()\n",
    "    \n",
    "    x = torch.ones((len(G.nodes()), num_features))  # Özellik boyutunu doğru ayarlayın\n",
    "    \n",
    "    data = Data(x=x, edge_index=edge_index)\n",
    "    \n",
    "    with torch.no_grad():\n",
    "        out = model(data.x, data.edge_index)\n",
    "    \n",
    "    new_person_idx = mapping[new_person]\n",
    "    \n",
    "    cos_sim = torch.nn.functional.cosine_similarity(out, out[new_person_idx].unsqueeze(0), dim=1)\n",
    "    \n",
    "    top_k_indices = cos_sim.argsort(descending=True)[1:top_k+1]\n",
    "    top_k_names = [list(G.nodes())[idx] for idx in top_k_indices]\n",
    "    \n",
    "    return top_k_names"
   ]
  },
  {
   "cell_type": "markdown",
   "id": "54f803ad",
   "metadata": {},
   "source": [
    "* TAHMİN MODELİNİN DENENMESİ"
   ]
  },
  {
   "cell_type": "code",
   "execution_count": 67,
   "id": "ebc70ab3",
   "metadata": {},
   "outputs": [
    {
     "name": "stdout",
     "output_type": "stream",
     "text": [
      "[195, 1, 3, 33, 64, 141, 75, 199, 288, 84]\n"
     ]
    }
   ],
   "source": [
    "person = 286\n",
    "friends = [81]\n",
    "\n",
    "similar_people = find_similar_people(model, G, person, friends)\n",
    "\n",
    "print(similar_people)\n"
   ]
  },
  {
   "cell_type": "markdown",
   "id": "06c69055",
   "metadata": {},
   "source": [
    "* DİNAMİK OLARAK NEO4J'DEN NODE SİLME"
   ]
  },
  {
   "cell_type": "code",
   "execution_count": 68,
   "id": "8674833a",
   "metadata": {},
   "outputs": [],
   "source": [
    "# Bir kişiyi silme fonksiyonu\n",
    "def remove_person(person_id):\n",
    "    with create_session() as session:\n",
    "        session.run(\"MATCH (p:Person {id: $id}) DETACH DELETE p\", id=person_id)\n",
    "        "
   ]
  },
  {
   "cell_type": "markdown",
   "id": "95145d7f",
   "metadata": {},
   "source": [
    "* MEVCUT NODE İLE İLİŞKİLİ EDGE'LERİ SİLME "
   ]
  },
  {
   "cell_type": "code",
   "execution_count": 69,
   "id": "807d7be6",
   "metadata": {},
   "outputs": [],
   "source": [
    "# İki kişi arasındaki arkadaşlığı silme fonksiyonu\n",
    "def remove_friendship(source, target):\n",
    "    with create_session() as session:\n",
    "        session.run(\"\"\"\n",
    "            MATCH (a:Person {id: $source})-[r:FRIEND]->(b:Person {id: $target})\n",
    "            DELETE r\n",
    "            \"\"\", source=source, target=target)\n",
    "        "
   ]
  },
  {
   "cell_type": "markdown",
   "id": "dabb3485",
   "metadata": {},
   "source": [
    "* NEO4 YAVAŞ ÇALIŞTIĞINDAN YENİ NODE'UN EKLENİP / EKLENMEDİĞİNİN KONTROLÜ - RETURN TRUE YA DA FALSE "
   ]
  },
  {
   "cell_type": "code",
   "execution_count": 70,
   "id": "b6c8de7a",
   "metadata": {},
   "outputs": [],
   "source": [
    "def check_person_exists(person_id):\n",
    "    with create_session() as session:\n",
    "        result = session.run(\"MATCH (p:Person {id: $id}) RETURN p\", id=person_id)\n",
    "        return result.single() is not None\n",
    "    "
   ]
  },
  {
   "cell_type": "markdown",
   "id": "8d531909",
   "metadata": {},
   "source": [
    "* GRAF'IN NEO4'YE AKTARIMI "
   ]
  },
  {
   "cell_type": "code",
   "execution_count": 71,
   "id": "58d19142",
   "metadata": {},
   "outputs": [],
   "source": [
    "# Veriyi yükleyin ve grafı Neo4j'ye aktarın\n",
    "df = pd.read_excel('veri.xlsx')\n",
    "df.columns = ['source', 'target']\n",
    "create_graph_from_dataframe(df)\n"
   ]
  },
  {
   "cell_type": "markdown",
   "id": "f655b8df",
   "metadata": {},
   "source": [
    "* DİNAMİK OLARAK YENİ NODE VE EDGE EKLEME "
   ]
  },
  {
   "cell_type": "code",
   "execution_count": 72,
   "id": "48be3cf2",
   "metadata": {},
   "outputs": [],
   "source": [
    "add_person(1234)\n",
    "add_friendship(1234, 5678)\n"
   ]
  },
  {
   "cell_type": "markdown",
   "id": "6a5a8adf",
   "metadata": {},
   "source": [
    "* YUKARIDAKİ KİŞİNİN GRAF'A EKLENİP EKLENMEDİĞİNİN KONTROLÜ "
   ]
  },
  {
   "cell_type": "code",
   "execution_count": 73,
   "id": "4c77ae39",
   "metadata": {
    "scrolled": true
   },
   "outputs": [
    {
     "name": "stdout",
     "output_type": "stream",
     "text": [
      "False\n"
     ]
    }
   ],
   "source": [
    "print(check_person_exists(12)) "
   ]
  },
  {
   "cell_type": "code",
   "execution_count": 74,
   "id": "2ceb3931",
   "metadata": {},
   "outputs": [
    {
     "name": "stdout",
     "output_type": "stream",
     "text": [
      "True\n"
     ]
    },
    {
     "name": "stderr",
     "output_type": "stream",
     "text": [
      "C:\\Users\\Gamze\\anaconda3\\Lib\\site-packages\\neo4j\\_sync\\work\\result.py:500: UserWarning: Expected a result with a single record, but found multiple.\n",
      "  warn(\"Expected a result with a single record, \"\n"
     ]
    }
   ],
   "source": [
    "print(check_person_exists(1234)) "
   ]
  }
 ],
 "metadata": {
  "kernelspec": {
   "display_name": "Python 3 (ipykernel)",
   "language": "python",
   "name": "python3"
  },
  "language_info": {
   "codemirror_mode": {
    "name": "ipython",
    "version": 3
   },
   "file_extension": ".py",
   "mimetype": "text/x-python",
   "name": "python",
   "nbconvert_exporter": "python",
   "pygments_lexer": "ipython3",
   "version": "3.11.7"
  }
 },
 "nbformat": 4,
 "nbformat_minor": 5
}
