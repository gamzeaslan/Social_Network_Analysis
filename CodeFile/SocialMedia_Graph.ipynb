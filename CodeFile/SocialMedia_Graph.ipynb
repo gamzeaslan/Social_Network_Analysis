{
 "cells": [
  {
   "cell_type": "markdown",
   "id": "c858a0f5-a089-460d-bab6-6ba11888560c",
   "metadata": {},
   "source": [
    "# SOCIAL NETWORK ANALYSIS"
   ]
  },
  {
   "cell_type": "markdown",
   "id": "6c879d92-8a39-40b4-9774-dcf167be9838",
   "metadata": {},
   "source": [
    "* **Proje  Amacı** :Bu proje, sosyal ağ analizi üzerine odaklanarak, bir Graph Neural Network (GNN) modeli kullanarak sosyal ağdaki düğümler üzerinden bir öneri sistemi geliştirmeyi amaçlamakta . Yani ağa katılan herhangi bir kişi için en öncelikli 10 kişiyi tahmin edip öneren bir sistem olması amaçlanmaktadır."
   ]
  },
  {
   "cell_type": "markdown",
   "id": "c7b37d6e-6169-4ee2-80b3-925419fdb7b4",
   "metadata": {},
   "source": [
    "## VERİSETİ HAKKINDA"
   ]
  },
  {
   "cell_type": "markdown",
   "id": "b38fa324-ed60-483c-b9db-42df2652eccd",
   "metadata": {},
   "source": [
    "* Bu proje içerisinde kullandığım verisetini **Stanford**'a ait şu siteden aldım \"https://snap.stanford.edu/data/\"\n",
    "* Veri setinde **Facebook**'a ait veriler bulunmaktadır\n",
    "* Veriseti içerisinde 5 tip dosya bulunmaktadır.Bunla\n",
    "    * **circles** DosyalarBu dosya, ego kullanıcısının çemberlerini içerir. Her bir çember, kullanıcıların belirli bir grup içinde nasıl gruplandırıldığını gösterir. Bu çemberler, sosyal ağdaki toplulukları veya grupları analiz etmek için kullanılabilir.r.\n",
    "  * **edges** Dosyaları:Bu dosya, kullanıcılar arasındaki bağlantıları (kenarları) içerir. Her satır, iki kullanıcı arasındaki bir bağlantıyı temsil eder. Örneğin, \"236 186\" satırı, 236 ve 186 numaralı iki kullanıcı arasında bir bağlantı olduğunu belirtir.\n",
    "  * **egofeat** DosyalBu dosya, ego kullanıcısının özelliklerini içerir. Bu özellikler, ego kullanıcısının profiline özgüdür ve diğer kullanıcılarla karşılaştırmak için kullanılabilir.lir.\n",
    "  * **feat** DosyalBu dosya, ağdaki her bir düğümün özelliklerini içerir. Özellikler, düğümlerin profilleriyle ilişkilendirilebilir ve kullanıcıların belirli özelliklerini temsil edebilir.erir.\n",
    "  * **featnames** DosyBu dosya, özellik isimlerini içerir. Özelliklerin neyi temsil ettiğini anlamanıza yardımcı olabilir.çnodeId.edges: Bu dosya, ego ağının kenarlarını içerir. Her bir satırda, bir kenarın iki ucu belirtilir. Kenarlar, genellikle kullanıcıların arkadaşlık ilişkilerini temsil eder.\n",
    "lir.ıklar."
   ]
  },
  {
   "cell_type": "markdown",
   "id": "6c8bb5d1-47dd-436a-9176-e5dc7dcb7642",
   "metadata": {},
   "source": [
    "## KOD"
   ]
  },
  {
   "cell_type": "markdown",
   "id": "481bcd32-e718-4ea1-99c8-5db284b2136b",
   "metadata": {},
   "source": [
    "* GEREKLİ KÜTÜPHANELERİN IMPORT EDİLMESİ"
   ]
  },
  {
   "cell_type": "code",
   "execution_count": 1,
   "id": "79b780f8-3aaa-4a82-b70e-9b2df569c10d",
   "metadata": {},
   "outputs": [],
   "source": [
    "import numpy as np\n",
    "import matplotlib.pyplot as plt\n",
    "import networkx as nx\n",
    "import pandas as pd \n",
    "import torch\n",
    "import torch.nn as nn\n",
    "import torch.optim as optim\n",
    "import torch.nn.functional as F\n",
    "from torch_geometric.nn import GCNConv\n",
    "from torch_geometric.data import Data, DataLoader\n",
    "from itertools import combinations\n",
    "from sklearn.model_selection import KFold\n"
   ]
  },
  {
   "cell_type": "markdown",
   "id": "5e834fd7",
   "metadata": {},
   "source": [
    "* VERİSETİNİN İÇE AKTARILMASI"
   ]
  },
  {
   "cell_type": "code",
   "execution_count": 2,
   "id": "98171d38-1a07-4b31-8e24-b647d8aab62a",
   "metadata": {},
   "outputs": [
    {
     "data": {
      "text/html": [
       "<div>\n",
       "<style scoped>\n",
       "    .dataframe tbody tr th:only-of-type {\n",
       "        vertical-align: middle;\n",
       "    }\n",
       "\n",
       "    .dataframe tbody tr th {\n",
       "        vertical-align: top;\n",
       "    }\n",
       "\n",
       "    .dataframe thead th {\n",
       "        text-align: right;\n",
       "    }\n",
       "</style>\n",
       "<table border=\"1\" class=\"dataframe\">\n",
       "  <thead>\n",
       "    <tr style=\"text-align: right;\">\n",
       "      <th></th>\n",
       "      <th>source</th>\n",
       "      <th>target</th>\n",
       "    </tr>\n",
       "  </thead>\n",
       "  <tbody>\n",
       "    <tr>\n",
       "      <th>0</th>\n",
       "      <td>122</td>\n",
       "      <td>285</td>\n",
       "    </tr>\n",
       "    <tr>\n",
       "      <th>1</th>\n",
       "      <td>24</td>\n",
       "      <td>346</td>\n",
       "    </tr>\n",
       "    <tr>\n",
       "      <th>2</th>\n",
       "      <td>271</td>\n",
       "      <td>304</td>\n",
       "    </tr>\n",
       "    <tr>\n",
       "      <th>3</th>\n",
       "      <td>176</td>\n",
       "      <td>9</td>\n",
       "    </tr>\n",
       "    <tr>\n",
       "      <th>4</th>\n",
       "      <td>130</td>\n",
       "      <td>329</td>\n",
       "    </tr>\n",
       "  </tbody>\n",
       "</table>\n",
       "</div>"
      ],
      "text/plain": [
       "   source  target\n",
       "0     122     285\n",
       "1      24     346\n",
       "2     271     304\n",
       "3     176       9\n",
       "4     130     329"
      ]
     },
     "execution_count": 2,
     "metadata": {},
     "output_type": "execute_result"
    }
   ],
   "source": [
    "df = pd.read_excel('veri.xlsx')\n",
    "\n",
    "df.columns = ['source', 'target']\n",
    "\n",
    "df.head(5)"
   ]
  },
  {
   "cell_type": "markdown",
   "id": "bf03fc3f",
   "metadata": {},
   "source": [
    "* VERİSETİ İLE GRAF YAPISININ OLUŞTURULMASI"
   ]
  },
  {
   "cell_type": "code",
   "execution_count": 3,
   "id": "935ac079",
   "metadata": {},
   "outputs": [],
   "source": [
    "G = nx.Graph()\n",
    "\n",
    "edges = df.values.tolist()\n",
    "\n",
    "G.add_edges_from(edges)\n",
    "\n",
    "mapping = {node: idx for idx, node in enumerate(G.nodes())}\n",
    "\n",
    "G = nx.relabel_nodes(G, mapping)\n",
    "\n",
    "edge_index = torch.tensor(list(G.edges)).t().contiguous()\n"
   ]
  },
  {
   "cell_type": "markdown",
   "id": "834e1132",
   "metadata": {},
   "source": [
    "* NEO4J BAĞLANTI BİLGİLERİ "
   ]
  },
  {
   "cell_type": "code",
   "execution_count": 4,
   "id": "4d605269",
   "metadata": {},
   "outputs": [],
   "source": [
    "from neo4j import GraphDatabase\n",
    "import pandas as pd\n",
    "\n",
    "# Neo4J DB bağlantı bilgileri\n",
    "uri = \"none"\n",
    "username = \"none"\n",
    "password = \"none"\n",
    "\n",
    "driver = GraphDatabase.driver(uri, auth=(username, password))\n"
   ]
  },
  {
   "cell_type": "markdown",
   "id": "99af0d46",
   "metadata": {},
   "source": [
    "* NEO4J'YE GRAFIN AKTARILMASI"
   ]
  },
  {
   "cell_type": "code",
   "execution_count": 5,
   "id": "58366575",
   "metadata": {},
   "outputs": [],
   "source": [
    "def create_session():\n",
    "    return driver.session()\n",
    "\n",
    "def create_graph_from_dataframe(df):\n",
    "    with create_session() as session:\n",
    "        for index, row in df.iterrows():\n",
    "            source = row['source']\n",
    "            target = row['target']\n",
    "            session.run(\"MERGE (a:Person {id: $source}) \"\n",
    "                        \"MERGE (b:Person {id: $target}) \"\n",
    "                        \"MERGE (a)-[:FRIEND]->(b)\",\n",
    "                        source=source, target=target)\n",
    "            "
   ]
  },
  {
   "cell_type": "markdown",
   "id": "0a11104f",
   "metadata": {},
   "source": [
    "* VERİSETİNİN GNN MODELİ İÇİN HAZIRLANMASI"
   ]
  },
  {
   "cell_type": "code",
   "execution_count": 6,
   "id": "847dfced",
   "metadata": {},
   "outputs": [],
   "source": [
    "x = torch.ones((len(G.nodes()), 1))\n",
    "\n",
    "y = torch.zeros(len(G.nodes()), dtype=torch.long)\n",
    "\n",
    "data = Data(x=x, edge_index=edge_index, y=y)\n",
    "\n",
    "data.train_mask = torch.ones(len(G.nodes()), dtype=torch.bool)\n",
    "\n",
    "data.test_mask = torch.zeros(len(G.nodes()), dtype=torch.bool)\n"
   ]
  },
  {
   "cell_type": "markdown",
   "id": "4d5de661",
   "metadata": {},
   "source": [
    "* GNN MODELİNİN OLUŞTURULMASI"
   ]
  },
  {
   "cell_type": "code",
   "execution_count": 7,
   "id": "f7ac2c65",
   "metadata": {},
   "outputs": [],
   "source": [
    "class GCN(nn.Module):\n",
    "    \n",
    "    def __init__(self, num_features, hidden_dim, num_classes, dropout=0.5):\n",
    "        super(GCN, self).__init__()\n",
    "        self.conv1 = GCNConv(num_features, hidden_dim)\n",
    "        self.conv2 = GCNConv(hidden_dim, num_classes)\n",
    "        self.dropout = dropout\n",
    "\n",
    "        \n",
    "    def forward(self, x, edge_index):\n",
    "        x = self.conv1(x, edge_index)\n",
    "        x = F.relu(x)\n",
    "        x = F.dropout(x, p=self.dropout, training=self.training)\n",
    "        x = self.conv2(x, edge_index)\n",
    "        return F.log_softmax(x, dim=1)\n",
    "    "
   ]
  },
  {
   "cell_type": "markdown",
   "id": "67c98332",
   "metadata": {},
   "source": [
    "* MODELE AİT PARAMETRELERİN AYARLANMASI "
   ]
  },
  {
   "cell_type": "code",
   "execution_count": 8,
   "id": "c86ec222",
   "metadata": {},
   "outputs": [],
   "source": [
    "num_features = 1\n",
    "hidden_dim = 8  # Gizli boyutu azaltarak model karmaşıklığını düşürdüm\n",
    "num_classes = 2\n",
    "\n",
    "model = GCN(num_features, hidden_dim, num_classes, dropout=0.7)  # Dropout oranını artırdık\n",
    "optimizer = torch.optim.Adam(model.parameters(), lr=0.005, weight_decay=1e-4)  # L2 düzenlemesini artırdık\n",
    "\n",
    "kf = KFold(n_splits=5, shuffle=True, random_state=42)\n",
    "validation_losses = []\n"
   ]
  },
  {
   "cell_type": "markdown",
   "id": "53b86189",
   "metadata": {},
   "source": [
    "* MODELİN EĞİTİLMESİ"
   ]
  },
  {
   "cell_type": "code",
   "execution_count": 9,
   "id": "aa54e271",
   "metadata": {},
   "outputs": [
    {
     "name": "stdout",
     "output_type": "stream",
     "text": [
      "Epoch 1, Loss: 0.5130823850631714, Validation Loss: 0.4100572466850281\n",
      "Epoch 2, Loss: 0.5072611570358276, Validation Loss: 0.38332271575927734\n",
      "Epoch 3, Loss: 0.46949318051338196, Validation Loss: 0.3581901490688324\n",
      "Epoch 4, Loss: 0.38521796464920044, Validation Loss: 0.3348023295402527\n",
      "Epoch 5, Loss: 0.35875770449638367, Validation Loss: 0.31304821372032166\n",
      "Epoch 6, Loss: 0.36699458956718445, Validation Loss: 0.292740136384964\n",
      "Epoch 7, Loss: 0.3714366853237152, Validation Loss: 0.27381500601768494\n",
      "Epoch 8, Loss: 0.3467992842197418, Validation Loss: 0.25610676407814026\n",
      "Epoch 9, Loss: 0.298168420791626, Validation Loss: 0.23985794186592102\n",
      "Epoch 10, Loss: 0.24981488287448883, Validation Loss: 0.22481918334960938\n",
      "Epoch 11, Loss: 0.2609685957431793, Validation Loss: 0.21088774502277374\n",
      "Epoch 12, Loss: 0.25219056010246277, Validation Loss: 0.1980045586824417\n",
      "Epoch 13, Loss: 0.2817382216453552, Validation Loss: 0.18595997989177704\n",
      "Epoch 14, Loss: 0.20908133685588837, Validation Loss: 0.17486420273780823\n",
      "Epoch 15, Loss: 0.22270022332668304, Validation Loss: 0.1645517647266388\n",
      "Epoch 16, Loss: 0.18971674144268036, Validation Loss: 0.15511102974414825\n",
      "Epoch 17, Loss: 0.18186956644058228, Validation Loss: 0.14640028774738312\n",
      "Epoch 18, Loss: 0.18953363597393036, Validation Loss: 0.13831733167171478\n",
      "Epoch 19, Loss: 0.1813594251871109, Validation Loss: 0.13085515797138214\n",
      "Epoch 20, Loss: 0.1612786054611206, Validation Loss: 0.12392039597034454\n",
      "Epoch 21, Loss: 0.16732507944107056, Validation Loss: 0.11748545616865158\n",
      "Epoch 22, Loss: 0.17524662613868713, Validation Loss: 0.1114606186747551\n",
      "Epoch 23, Loss: 0.16290102899074554, Validation Loss: 0.10587634146213531\n",
      "Epoch 24, Loss: 0.12831975519657135, Validation Loss: 0.10073864459991455\n",
      "Epoch 25, Loss: 0.10634668916463852, Validation Loss: 0.09605878591537476\n",
      "Epoch 26, Loss: 0.11551278829574585, Validation Loss: 0.09171978384256363\n",
      "Epoch 27, Loss: 0.11258821189403534, Validation Loss: 0.08768685907125473\n",
      "Epoch 28, Loss: 0.0871191993355751, Validation Loss: 0.08397264778614044\n",
      "Epoch 29, Loss: 0.12180157750844955, Validation Loss: 0.08048242330551147\n",
      "Epoch 30, Loss: 0.1363266408443451, Validation Loss: 0.07718854397535324\n",
      "Epoch 1, Loss: 0.10689243674278259, Validation Loss: 0.07542842626571655\n",
      "Epoch 2, Loss: 0.10372099280357361, Validation Loss: 0.0724545419216156\n",
      "Epoch 3, Loss: 0.09860683977603912, Validation Loss: 0.06967806071043015\n",
      "Epoch 4, Loss: 0.10841625183820724, Validation Loss: 0.06706751137971878\n",
      "Epoch 5, Loss: 0.09221379458904266, Validation Loss: 0.06461440026760101\n",
      "Epoch 6, Loss: 0.07931570708751678, Validation Loss: 0.06230154260993004\n",
      "Epoch 7, Loss: 0.0958094522356987, Validation Loss: 0.06012424826622009\n",
      "Epoch 8, Loss: 0.09833782911300659, Validation Loss: 0.05804784968495369\n",
      "Epoch 9, Loss: 0.08710068464279175, Validation Loss: 0.056078311055898666\n",
      "Epoch 10, Loss: 0.10114675015211105, Validation Loss: 0.05420740321278572\n",
      "Epoch 11, Loss: 0.08918158710002899, Validation Loss: 0.05240757763385773\n",
      "Epoch 12, Loss: 0.0873522162437439, Validation Loss: 0.05069553852081299\n",
      "Epoch 13, Loss: 0.07270093262195587, Validation Loss: 0.0490959957242012\n",
      "Epoch 14, Loss: 0.08361247181892395, Validation Loss: 0.0475480780005455\n",
      "Epoch 15, Loss: 0.11233446002006531, Validation Loss: 0.04604965075850487\n",
      "Epoch 16, Loss: 0.0849144384264946, Validation Loss: 0.04461734741926193\n",
      "Epoch 17, Loss: 0.06336024403572083, Validation Loss: 0.043265391141176224\n",
      "Epoch 18, Loss: 0.10824757814407349, Validation Loss: 0.04197074845433235\n",
      "Epoch 19, Loss: 0.0743938609957695, Validation Loss: 0.040748052299022675\n",
      "Epoch 20, Loss: 0.07638150453567505, Validation Loss: 0.03957851976156235\n",
      "Epoch 21, Loss: 0.07407377660274506, Validation Loss: 0.03845997899770737\n",
      "Epoch 22, Loss: 0.05690255016088486, Validation Loss: 0.03740080073475838\n",
      "Epoch 23, Loss: 0.079224593937397, Validation Loss: 0.03639274463057518\n",
      "Epoch 24, Loss: 0.07416330277919769, Validation Loss: 0.035429295152425766\n",
      "Epoch 25, Loss: 0.04529985785484314, Validation Loss: 0.03451543673872948\n",
      "Epoch 26, Loss: 0.10639028251171112, Validation Loss: 0.033615462481975555\n",
      "Epoch 27, Loss: 0.04694696515798569, Validation Loss: 0.03276045620441437\n",
      "Epoch 28, Loss: 0.07579581439495087, Validation Loss: 0.03193402662873268\n",
      "Epoch 29, Loss: 0.05850757285952568, Validation Loss: 0.031145159155130386\n",
      "Epoch 30, Loss: 0.0708145722746849, Validation Loss: 0.030379345640540123\n",
      "Epoch 1, Loss: 0.07514677941799164, Validation Loss: 0.0295573677867651\n",
      "Epoch 2, Loss: 0.06149192899465561, Validation Loss: 0.028870943933725357\n",
      "Epoch 3, Loss: 0.07716603577136993, Validation Loss: 0.028194310143589973\n",
      "Epoch 4, Loss: 0.08196253329515457, Validation Loss: 0.02753395028412342\n",
      "Epoch 5, Loss: 0.03221103921532631, Validation Loss: 0.026910074055194855\n",
      "Epoch 6, Loss: 0.053670164197683334, Validation Loss: 0.02631266601383686\n",
      "Epoch 7, Loss: 0.03990954905748367, Validation Loss: 0.025744033977389336\n",
      "Epoch 8, Loss: 0.06778596341609955, Validation Loss: 0.025188548490405083\n",
      "Epoch 9, Loss: 0.03654961660504341, Validation Loss: 0.024658024311065674\n",
      "Epoch 10, Loss: 0.06301712244749069, Validation Loss: 0.024135516956448555\n",
      "Epoch 11, Loss: 0.05986596643924713, Validation Loss: 0.023626716807484627\n",
      "Epoch 12, Loss: 0.05355895683169365, Validation Loss: 0.023134443908929825\n",
      "Epoch 13, Loss: 0.044239841401576996, Validation Loss: 0.022658705711364746\n",
      "Epoch 14, Loss: 0.06445832550525665, Validation Loss: 0.022193731740117073\n",
      "Epoch 15, Loss: 0.06637797504663467, Validation Loss: 0.02173544093966484\n",
      "Epoch 16, Loss: 0.04525386914610863, Validation Loss: 0.021290268748998642\n",
      "Epoch 17, Loss: 0.04977121949195862, Validation Loss: 0.02085304632782936\n",
      "Epoch 18, Loss: 0.04724418371915817, Validation Loss: 0.020432796329259872\n",
      "Epoch 19, Loss: 0.049724727869033813, Validation Loss: 0.020022401586174965\n",
      "Epoch 20, Loss: 0.04269351065158844, Validation Loss: 0.019626090303063393\n",
      "Epoch 21, Loss: 0.038415927439928055, Validation Loss: 0.01924731396138668\n",
      "Epoch 22, Loss: 0.05805191025137901, Validation Loss: 0.018878504633903503\n",
      "Epoch 23, Loss: 0.04782601445913315, Validation Loss: 0.018521487712860107\n",
      "Epoch 24, Loss: 0.03256883844733238, Validation Loss: 0.018182184547185898\n",
      "Epoch 25, Loss: 0.04286067560315132, Validation Loss: 0.01785699650645256\n",
      "Epoch 26, Loss: 0.04838242381811142, Validation Loss: 0.017540723085403442\n",
      "Epoch 27, Loss: 0.05648130178451538, Validation Loss: 0.017229313030838966\n",
      "Epoch 28, Loss: 0.03759051114320755, Validation Loss: 0.01692972518503666\n",
      "Epoch 29, Loss: 0.035333115607500076, Validation Loss: 0.016641778871417046\n",
      "Epoch 30, Loss: 0.04692217707633972, Validation Loss: 0.01636050082743168\n",
      "Epoch 1, Loss: 0.026882177218794823, Validation Loss: 0.016064776107668877\n",
      "Epoch 2, Loss: 0.03889848291873932, Validation Loss: 0.01579570211470127\n",
      "Epoch 3, Loss: 0.029694799333810806, Validation Loss: 0.015535497106611729\n",
      "Epoch 4, Loss: 0.06580127775669098, Validation Loss: 0.015272729098796844\n",
      "Epoch 5, Loss: 0.037743132561445236, Validation Loss: 0.015018327161669731\n",
      "Epoch 6, Loss: 0.04865938425064087, Validation Loss: 0.014764056541025639\n",
      "Epoch 7, Loss: 0.038617461919784546, Validation Loss: 0.014514830894768238\n",
      "Epoch 8, Loss: 0.04082213342189789, Validation Loss: 0.014271363615989685\n",
      "Epoch 9, Loss: 0.04756232723593712, Validation Loss: 0.014033720828592777\n",
      "Epoch 10, Loss: 0.041172124445438385, Validation Loss: 0.01379971019923687\n",
      "Epoch 11, Loss: 0.05070658028125763, Validation Loss: 0.013565227389335632\n",
      "Epoch 12, Loss: 0.049932364374399185, Validation Loss: 0.01333277951925993\n",
      "Epoch 13, Loss: 0.0365581177175045, Validation Loss: 0.013106506317853928\n",
      "Epoch 14, Loss: 0.05402000620961189, Validation Loss: 0.012886390089988708\n",
      "Epoch 15, Loss: 0.0294442530721426, Validation Loss: 0.012675529345870018\n",
      "Epoch 16, Loss: 0.03680361807346344, Validation Loss: 0.01246923953294754\n",
      "Epoch 17, Loss: 0.04521317034959793, Validation Loss: 0.012267260812222958\n",
      "Epoch 18, Loss: 0.0392608568072319, Validation Loss: 0.012067778035998344\n",
      "Epoch 19, Loss: 0.03594513237476349, Validation Loss: 0.011873829178512096\n",
      "Epoch 20, Loss: 0.03147951513528824, Validation Loss: 0.011687167920172215\n",
      "Epoch 21, Loss: 0.04057406634092331, Validation Loss: 0.011504906229674816\n",
      "Epoch 22, Loss: 0.0400560162961483, Validation Loss: 0.011325106024742126\n",
      "Epoch 23, Loss: 0.03293195739388466, Validation Loss: 0.011149992235004902\n",
      "Epoch 24, Loss: 0.034130435436964035, Validation Loss: 0.0109797902405262\n",
      "Epoch 25, Loss: 0.030228424817323685, Validation Loss: 0.010816129855811596\n",
      "Epoch 26, Loss: 0.03497833013534546, Validation Loss: 0.010656565427780151\n",
      "Epoch 27, Loss: 0.025333642959594727, Validation Loss: 0.01050346065312624\n",
      "Epoch 28, Loss: 0.040311865508556366, Validation Loss: 0.010350589640438557\n",
      "Epoch 29, Loss: 0.03086390160024166, Validation Loss: 0.01020096242427826\n",
      "Epoch 30, Loss: 0.026970606297254562, Validation Loss: 0.010055571794509888\n",
      "Epoch 1, Loss: 0.04268673434853554, Validation Loss: 0.006623982917517424\n",
      "Epoch 2, Loss: 0.02759426273405552, Validation Loss: 0.006522609386593103\n",
      "Epoch 3, Loss: 0.03541012108325958, Validation Loss: 0.0064243413507938385\n",
      "Epoch 4, Loss: 0.041901540011167526, Validation Loss: 0.006327182985842228\n",
      "Epoch 5, Loss: 0.04896818846464157, Validation Loss: 0.006228968035429716\n",
      "Epoch 6, Loss: 0.046244505792856216, Validation Loss: 0.0061312210746109486\n",
      "Epoch 7, Loss: 0.037660304456949234, Validation Loss: 0.006036343984305859\n",
      "Epoch 8, Loss: 0.03963334858417511, Validation Loss: 0.005943245720118284\n",
      "Epoch 9, Loss: 0.033232323825359344, Validation Loss: 0.005853079259395599\n",
      "Epoch 10, Loss: 0.02348816581070423, Validation Loss: 0.005765479523688555\n",
      "Epoch 11, Loss: 0.03285874426364899, Validation Loss: 0.005679905414581299\n",
      "Epoch 12, Loss: 0.035426151007413864, Validation Loss: 0.005596195813268423\n",
      "Epoch 13, Loss: 0.02851683460175991, Validation Loss: 0.005514313466846943\n",
      "Epoch 14, Loss: 0.03660980984568596, Validation Loss: 0.0054320842027664185\n",
      "Epoch 15, Loss: 0.03457235172390938, Validation Loss: 0.005351734347641468\n",
      "Epoch 16, Loss: 0.028625408187508583, Validation Loss: 0.005272957030683756\n",
      "Epoch 17, Loss: 0.03989877924323082, Validation Loss: 0.005194729659706354\n",
      "Epoch 18, Loss: 0.038771819323301315, Validation Loss: 0.005116911139339209\n",
      "Epoch 19, Loss: 0.05033065751194954, Validation Loss: 0.005039319396018982\n",
      "Epoch 20, Loss: 0.019411927089095116, Validation Loss: 0.004964977037161589\n",
      "Epoch 21, Loss: 0.0375373549759388, Validation Loss: 0.004891149699687958\n",
      "Epoch 22, Loss: 0.05587051063776016, Validation Loss: 0.0048170979134738445\n",
      "Epoch 23, Loss: 0.03647969663143158, Validation Loss: 0.004744871985167265\n",
      "Epoch 24, Loss: 0.03791268169879913, Validation Loss: 0.004674624186009169\n",
      "Epoch 25, Loss: 0.027395108714699745, Validation Loss: 0.004606424365192652\n",
      "Epoch 26, Loss: 0.032558560371398926, Validation Loss: 0.004539540037512779\n",
      "Epoch 27, Loss: 0.040694963186979294, Validation Loss: 0.004473865497857332\n",
      "Epoch 28, Loss: 0.024537108838558197, Validation Loss: 0.004410413559526205\n",
      "Epoch 29, Loss: 0.028877796605229378, Validation Loss: 0.004347700625658035\n",
      "Epoch 30, Loss: 0.025486070662736893, Validation Loss: 0.004286674782633781\n"
     ]
    }
   ],
   "source": [
    "for train_index, val_index in kf.split(range(len(G.nodes()))):\n",
    "    train_mask = torch.tensor(train_index, dtype=torch.long)\n",
    "    val_mask = torch.tensor(val_index, dtype=torch.long)\n",
    "    \n",
    "    data.train_mask = torch.zeros(len(G.nodes()), dtype=torch.bool)\n",
    "    data.train_mask[train_mask] = True\n",
    "    data.val_mask = torch.zeros(len(G.nodes()), dtype=torch.bool)\n",
    "    data.val_mask[val_mask] = True\n",
    "    \n",
    "    best_val_loss = float('inf')\n",
    "    patience = 10\n",
    "    patience_counter = 0\n",
    "    \n",
    "    model.train()\n",
    "    for epoch in range(30):\n",
    "        optimizer.zero_grad()\n",
    "        out = model(data.x, data.edge_index)\n",
    "        loss = F.nll_loss(out[data.train_mask], data.y[data.train_mask])\n",
    "        loss.backward()\n",
    "        optimizer.step()\n",
    "        \n",
    "        model.eval()\n",
    "        with torch.no_grad():\n",
    "            val_out = model(data.x, data.edge_index)\n",
    "            val_loss = F.nll_loss(val_out[data.val_mask], data.y[data.val_mask])\n",
    "        \n",
    "        print(f'Epoch {epoch+1}, Loss: {loss.item()}, Validation Loss: {val_loss.item()}')\n",
    "        \n",
    "        if val_loss < best_val_loss:\n",
    "            best_val_loss = val_loss\n",
    "            patience_counter = 0\n",
    "            torch.save(model.state_dict(), 'best_model.pth')\n",
    "        else:\n",
    "            patience_counter += 1\n",
    "            if patience_counter >= patience:\n",
    "                print(\"Early stopping triggered\")\n",
    "                break\n",
    "        model.train()\n",
    "    \n",
    "    validation_losses.append(best_val_loss)\n",
    "    "
   ]
  },
  {
   "cell_type": "markdown",
   "id": "2166a45f",
   "metadata": {},
   "source": [
    "* EĞİTİLEN MODELİN TEST EDİLMESİ"
   ]
  },
  {
   "cell_type": "code",
   "execution_count": 10,
   "id": "771440c4",
   "metadata": {},
   "outputs": [],
   "source": [
    "model.eval()\n",
    "with torch.no_grad():\n",
    "    pred = model(data.x, data.edge_index).argmax(dim=1)\n",
    "    correct = pred[data.val_mask] == data.y[data.val_mask]\n",
    "    accuracy = float(correct.sum()) / float(data.val_mask.sum())\n",
    "    "
   ]
  },
  {
   "cell_type": "code",
   "execution_count": 11,
   "id": "c1166165",
   "metadata": {},
   "outputs": [
    {
     "name": "stdout",
     "output_type": "stream",
     "text": [
      "Average Validation Loss: 0.02765413001179695\n"
     ]
    }
   ],
   "source": [
    "print(f'Average Validation Loss: {np.mean(validation_losses)}')\n"
   ]
  },
  {
   "cell_type": "markdown",
   "id": "081a7fff",
   "metadata": {},
   "source": [
    "*  TAHMİN SÜRECİNDE KULLANMAK İÇİN MODELİN KAYDEDİLMESİ"
   ]
  },
  {
   "cell_type": "code",
   "execution_count": 12,
   "id": "421d7543",
   "metadata": {},
   "outputs": [],
   "source": [
    "torch.save(model.state_dict(), 'model.pth')\n"
   ]
  },
  {
   "cell_type": "markdown",
   "id": "65468646",
   "metadata": {},
   "source": [
    "* KAYDEDİLEN MODELİN YÜKLENMESİ"
   ]
  },
  {
   "cell_type": "code",
   "execution_count": 13,
   "id": "0a325e4a",
   "metadata": {},
   "outputs": [
    {
     "data": {
      "text/plain": [
       "GCN(\n",
       "  (conv1): GCNConv(1, 8)\n",
       "  (conv2): GCNConv(8, 2)\n",
       ")"
      ]
     },
     "execution_count": 13,
     "metadata": {},
     "output_type": "execute_result"
    }
   ],
   "source": [
    "model.load_state_dict(torch.load('model.pth'))\n",
    "model.eval()\n"
   ]
  },
  {
   "cell_type": "markdown",
   "id": "94570c87",
   "metadata": {},
   "source": [
    "* YENİ KİŞİ EKLENDİĞİNDE GRAFI GÜNCELLEYEN FONKSİYON "
   ]
  },
  {
   "cell_type": "code",
   "execution_count": 14,
   "id": "efa1b556",
   "metadata": {},
   "outputs": [],
   "source": [
    "def add_new_person(graph, new_person, friends):\n",
    "    if new_person not in graph:\n",
    "        graph.add_node(new_person)\n",
    "    for friend in friends:\n",
    "        graph.add_edge(new_person, friend)\n",
    "    return graph\n"
   ]
  },
  {
   "cell_type": "markdown",
   "id": "2a5156d6",
   "metadata": {},
   "source": [
    "* YENİ NODE İLE İLİŞKİLİ EDGE EKLEME "
   ]
  },
  {
   "cell_type": "code",
   "execution_count": 15,
   "id": "7c31ca50",
   "metadata": {},
   "outputs": [],
   "source": [
    "# İki kişi arasında arkadaşlık ekleme fonksiyonu\n",
    "def add_friendship(source, target):\n",
    "    with create_session() as session:\n",
    "        session.run(\"\"\"\n",
    "            MATCH (a:Person {id: $source})\n",
    "            MATCH (b:Person {id: $target})\n",
    "            CREATE (a)-[:FRIEND]->(b)\n",
    "            \"\"\", source=source, target=target)"
   ]
  },
  {
   "cell_type": "markdown",
   "id": "a6be2bd4",
   "metadata": {},
   "source": [
    "* EKLENEN YENİ KİŞİNİN DİNAMİK OLARAK NEO4J'YE AKTARILMASI "
   ]
  },
  {
   "cell_type": "code",
   "execution_count": 16,
   "id": "91e81e62",
   "metadata": {},
   "outputs": [],
   "source": [
    "# Yeni bir kişi ekleme fonksiyonu\n",
    "def add_person(person_id):\n",
    "    with create_session() as session:\n",
    "        session.run(\"CREATE (:Person {id: $id})\", id=person_id)\n",
    "        "
   ]
  },
  {
   "cell_type": "markdown",
   "id": "a93dd5d0",
   "metadata": {},
   "source": [
    "* EKLENEN YENİ KİŞİ İÇİN EN YÜKSEK TAHMİN DEĞERLERİNE SAHİP İLK 10 KİŞİNİN BULUNMASI"
   ]
  },
  {
   "cell_type": "code",
   "execution_count": 17,
   "id": "99e046fd",
   "metadata": {},
   "outputs": [],
   "source": [
    "def find_similar_people(model, G, new_person, friends, top_k=10):\n",
    "    G = add_new_person(G, new_person, friends)\n",
    "    \n",
    "    mapping = {node: idx for idx, node in enumerate(G.nodes())}\n",
    "    G = nx.relabel_nodes(G, mapping)\n",
    "    \n",
    "    edge_index = torch.tensor(list(G.edges())).t().contiguous()\n",
    "    \n",
    "    x = torch.ones((len(G.nodes()), 1))\n",
    "    \n",
    "    data = Data(x=x, edge_index=edge_index)\n",
    "    \n",
    "    with torch.no_grad():\n",
    "        out = model(data.x, data.edge_index)\n",
    "    \n",
    "    new_person_idx = mapping[new_person]\n",
    "    \n",
    "    cos_sim = torch.nn.functional.cosine_similarity(out, out[new_person_idx].unsqueeze(0), dim=1)\n",
    "    \n",
    "    top_k_indices = cos_sim.argsort(descending=True)[1:top_k+1]\n",
    "    top_k_names = [list(G.nodes())[idx] for idx in top_k_indices]\n",
    "    \n",
    "    return top_k_names\n"
   ]
  },
  {
   "cell_type": "markdown",
   "id": "54f803ad",
   "metadata": {},
   "source": [
    "* TAHMİN MODELİNİN DENENMESİ"
   ]
  },
  {
   "cell_type": "code",
   "execution_count": 28,
   "id": "ebc70ab3",
   "metadata": {},
   "outputs": [
    {
     "name": "stdout",
     "output_type": "stream",
     "text": [
      "[1, 172, 3, 43, 148, 84, 33, 188, 75, 199]\n"
     ]
    }
   ],
   "source": [
    "person = 286\n",
    "friends = [81]\n",
    "\n",
    "similar_people = find_similar_people(model, G, person, friends)\n",
    "\n",
    "print(similar_people)\n"
   ]
  },
  {
   "cell_type": "markdown",
   "id": "06c69055",
   "metadata": {},
   "source": [
    "* DİNAMİK OLARAK NEO4J'DEN NODE SİLME"
   ]
  },
  {
   "cell_type": "code",
   "execution_count": 19,
   "id": "8674833a",
   "metadata": {},
   "outputs": [],
   "source": [
    "# Bir kişiyi silme fonksiyonu\n",
    "def remove_person(person_id):\n",
    "    with create_session() as session:\n",
    "        session.run(\"MATCH (p:Person {id: $id}) DETACH DELETE p\", id=person_id)\n",
    "        "
   ]
  },
  {
   "cell_type": "markdown",
   "id": "95145d7f",
   "metadata": {},
   "source": [
    "* MEVCUT NODE İLE İLİŞKİLİ EDGE'LERİ SİLME "
   ]
  },
  {
   "cell_type": "code",
   "execution_count": 20,
   "id": "807d7be6",
   "metadata": {},
   "outputs": [],
   "source": [
    "# İki kişi arasındaki arkadaşlığı silme fonksiyonu\n",
    "def remove_friendship(source, target):\n",
    "    with create_session() as session:\n",
    "        session.run(\"\"\"\n",
    "            MATCH (a:Person {id: $source})-[r:FRIEND]->(b:Person {id: $target})\n",
    "            DELETE r\n",
    "            \"\"\", source=source, target=target)\n",
    "        "
   ]
  },
  {
   "cell_type": "markdown",
   "id": "dabb3485",
   "metadata": {},
   "source": [
    "* NEO4 YAVAŞ ÇALIŞTIĞINDAN YENİ NODE'UN EKLENİP / EKLENMEDİĞİNİN KONTROLÜ - RETURN TRUE YA DA FALSE "
   ]
  },
  {
   "cell_type": "code",
   "execution_count": 21,
   "id": "b6c8de7a",
   "metadata": {},
   "outputs": [],
   "source": [
    "def check_person_exists(person_id):\n",
    "    with create_session() as session:\n",
    "        result = session.run(\"MATCH (p:Person {id: $id}) RETURN p\", id=person_id)\n",
    "        return result.single() is not None\n",
    "    "
   ]
  },
  {
   "cell_type": "markdown",
   "id": "8d531909",
   "metadata": {},
   "source": [
    "* GRAF'IN NEO4'YE AKTARIMI "
   ]
  },
  {
   "cell_type": "code",
   "execution_count": 22,
   "id": "58d19142",
   "metadata": {},
   "outputs": [],
   "source": [
    "# Veriyi yükleyin ve grafı Neo4j'ye aktarın\n",
    "df = pd.read_excel('veri.xlsx')\n",
    "df.columns = ['source', 'target']\n",
    "create_graph_from_dataframe(df)\n"
   ]
  },
  {
   "cell_type": "markdown",
   "id": "f655b8df",
   "metadata": {},
   "source": [
    "* DİNAMİK OLARAK YENİ NODE VE EDGE EKLEME "
   ]
  },
  {
   "cell_type": "code",
   "execution_count": 23,
   "id": "48be3cf2",
   "metadata": {},
   "outputs": [],
   "source": [
    "add_person(1234)\n",
    "add_friendship(1234, 5678)\n"
   ]
  },
  {
   "cell_type": "markdown",
   "id": "6a5a8adf",
   "metadata": {},
   "source": [
    "* YUKARIDAKİ KİŞİNİN GRAF'A EKLENİP EKLENMEDİĞİNİN KONTROLÜ "
   ]
  },
  {
   "cell_type": "code",
   "execution_count": 24,
   "id": "4c77ae39",
   "metadata": {
    "scrolled": true
   },
   "outputs": [
    {
     "name": "stdout",
     "output_type": "stream",
     "text": [
      "False\n"
     ]
    }
   ],
   "source": [
    "print(check_person_exists(12)) "
   ]
  },
  {
   "cell_type": "code",
   "execution_count": 25,
   "id": "2ceb3931",
   "metadata": {},
   "outputs": [
    {
     "name": "stdout",
     "output_type": "stream",
     "text": [
      "True\n"
     ]
    },
    {
     "name": "stderr",
     "output_type": "stream",
     "text": [
      "C:\\Users\\Gamze\\anaconda3\\Lib\\site-packages\\neo4j\\_sync\\work\\result.py:500: UserWarning: Expected a result with a single record, but found multiple.\n",
      "  warn(\"Expected a result with a single record, \"\n"
     ]
    }
   ],
   "source": [
    "print(check_person_exists(1234)) "
   ]
  }
 ],
 "metadata": {
  "kernelspec": {
   "display_name": "Python 3 (ipykernel)",
   "language": "python",
   "name": "python3"
  },
  "language_info": {
   "codemirror_mode": {
    "name": "ipython",
    "version": 3
   },
   "file_extension": ".py",
   "mimetype": "text/x-python",
   "name": "python",
   "nbconvert_exporter": "python",
   "pygments_lexer": "ipython3",
   "version": "3.11.7"
  }
 },
 "nbformat": 4,
 "nbformat_minor": 5
}
